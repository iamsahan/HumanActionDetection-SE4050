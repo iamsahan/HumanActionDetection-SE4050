{
 "cells": [
  {
   "cell_type": "markdown",
   "id": "0976f448",
   "metadata": {},
   "source": [
    "# Data Exploration for Human Action Detection\n",
    "\n",
    "This notebook explores the dataset for human action detection."
   ]
  },
  {
   "cell_type": "code",
   "execution_count": null,
   "id": "203f9927",
   "metadata": {},
   "outputs": [],
   "source": [
    "import pandas as pd\n",
    "import numpy as np\n",
    "import matplotlib.pyplot as plt\n",
    "import seaborn as sns\n",
    "\n",
    "# Load dataset\n",
    "df = pd.read_csv('../data/sample_action_videos.csv')\n",
    "print(f\"Dataset shape: {df.shape}\")\n",
    "df.head()"
   ]
  }
 ],
 "metadata": {
  "language_info": {
   "name": "python"
  }
 },
 "nbformat": 4,
 "nbformat_minor": 5
}
